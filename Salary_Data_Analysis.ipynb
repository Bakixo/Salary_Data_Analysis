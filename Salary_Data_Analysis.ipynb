{
 "cells": [
  {
   "cell_type": "code",
   "execution_count": 155,
   "metadata": {},
   "outputs": [],
   "source": [
    "import pandas as pd\n",
    "import matplotlib.pyplot as plt\n",
    "import numpy as np\n",
    "import seaborn as sns"
   ]
  },
  {
   "cell_type": "code",
   "execution_count": 156,
   "metadata": {},
   "outputs": [],
   "source": [
    "df = pd.read_csv(\"salaries_clean.csv\",encoding=\"Latin-1\") # okunmayan değerler olduğu için hata aldık. encoding yazarak sorunu çözdük."
   ]
  },
  {
   "cell_type": "markdown",
   "metadata": {},
   "source": [
    "### About Data"
   ]
  },
  {
   "cell_type": "markdown",
   "metadata": {},
   "source": [
    "Veriyi buradan aldık: https://data.world/brandon-telle/2016-hacker-news-salary-survey-results"
   ]
  },
  {
   "cell_type": "code",
   "execution_count": 157,
   "metadata": {},
   "outputs": [
    {
     "data": {
      "text/html": [
       "<div>\n",
       "<style scoped>\n",
       "    .dataframe tbody tr th:only-of-type {\n",
       "        vertical-align: middle;\n",
       "    }\n",
       "\n",
       "    .dataframe tbody tr th {\n",
       "        vertical-align: top;\n",
       "    }\n",
       "\n",
       "    .dataframe thead th {\n",
       "        text-align: right;\n",
       "    }\n",
       "</style>\n",
       "<table border=\"1\" class=\"dataframe\">\n",
       "  <thead>\n",
       "    <tr style=\"text-align: right;\">\n",
       "      <th></th>\n",
       "      <th>salary_id</th>\n",
       "      <th>employer_name</th>\n",
       "      <th>location_name</th>\n",
       "      <th>location_state</th>\n",
       "      <th>location_country</th>\n",
       "      <th>location_latitude</th>\n",
       "      <th>location_longitude</th>\n",
       "      <th>job_title</th>\n",
       "      <th>job_title_category</th>\n",
       "      <th>job_title_rank</th>\n",
       "      <th>total_experience_years</th>\n",
       "      <th>employer_experience_years</th>\n",
       "      <th>annual_base_pay</th>\n",
       "      <th>signing_bonus</th>\n",
       "      <th>annual_bonus</th>\n",
       "      <th>stock_value_bonus</th>\n",
       "      <th>comments</th>\n",
       "      <th>submitted_at</th>\n",
       "    </tr>\n",
       "  </thead>\n",
       "  <tbody>\n",
       "    <tr>\n",
       "      <th>0</th>\n",
       "      <td>1</td>\n",
       "      <td>opower</td>\n",
       "      <td>san francisco, ca</td>\n",
       "      <td>CA</td>\n",
       "      <td>US</td>\n",
       "      <td>38</td>\n",
       "      <td>-122</td>\n",
       "      <td>systems engineer</td>\n",
       "      <td>Engineering</td>\n",
       "      <td>NaN</td>\n",
       "      <td>13</td>\n",
       "      <td>2</td>\n",
       "      <td>125000</td>\n",
       "      <td>5000</td>\n",
       "      <td>0</td>\n",
       "      <td>5000 shares</td>\n",
       "      <td>Don't work here.</td>\n",
       "      <td>3/21/16 12:58</td>\n",
       "    </tr>\n",
       "    <tr>\n",
       "      <th>1</th>\n",
       "      <td>3</td>\n",
       "      <td>walmart</td>\n",
       "      <td>bentonville, ar</td>\n",
       "      <td>AR</td>\n",
       "      <td>US</td>\n",
       "      <td>36</td>\n",
       "      <td>-94</td>\n",
       "      <td>senior developer</td>\n",
       "      <td>Software</td>\n",
       "      <td>Senior</td>\n",
       "      <td>15</td>\n",
       "      <td>8</td>\n",
       "      <td>65000</td>\n",
       "      <td>NaN</td>\n",
       "      <td>5000</td>\n",
       "      <td>3,000</td>\n",
       "      <td>NaN</td>\n",
       "      <td>3/21/16 12:58</td>\n",
       "    </tr>\n",
       "    <tr>\n",
       "      <th>2</th>\n",
       "      <td>4</td>\n",
       "      <td>vertical knowledge</td>\n",
       "      <td>cleveland, oh</td>\n",
       "      <td>OH</td>\n",
       "      <td>US</td>\n",
       "      <td>41</td>\n",
       "      <td>-82</td>\n",
       "      <td>software engineer</td>\n",
       "      <td>Software</td>\n",
       "      <td>NaN</td>\n",
       "      <td>4</td>\n",
       "      <td>1</td>\n",
       "      <td>86000</td>\n",
       "      <td>5000</td>\n",
       "      <td>6000</td>\n",
       "      <td>0</td>\n",
       "      <td>NaN</td>\n",
       "      <td>3/21/16 12:59</td>\n",
       "    </tr>\n",
       "    <tr>\n",
       "      <th>3</th>\n",
       "      <td>6</td>\n",
       "      <td>netapp</td>\n",
       "      <td>waltham</td>\n",
       "      <td>NaN</td>\n",
       "      <td>NaN</td>\n",
       "      <td>NaN</td>\n",
       "      <td>NaN</td>\n",
       "      <td>mts</td>\n",
       "      <td>Other</td>\n",
       "      <td>NaN</td>\n",
       "      <td>4</td>\n",
       "      <td>0</td>\n",
       "      <td>105000</td>\n",
       "      <td>5000</td>\n",
       "      <td>8500</td>\n",
       "      <td>0</td>\n",
       "      <td>NaN</td>\n",
       "      <td>3/21/16 13:00</td>\n",
       "    </tr>\n",
       "    <tr>\n",
       "      <th>4</th>\n",
       "      <td>12</td>\n",
       "      <td>apple</td>\n",
       "      <td>cupertino</td>\n",
       "      <td>NaN</td>\n",
       "      <td>NaN</td>\n",
       "      <td>NaN</td>\n",
       "      <td>NaN</td>\n",
       "      <td>software engineer</td>\n",
       "      <td>Software</td>\n",
       "      <td>NaN</td>\n",
       "      <td>4</td>\n",
       "      <td>3</td>\n",
       "      <td>110000</td>\n",
       "      <td>5000</td>\n",
       "      <td>7000</td>\n",
       "      <td>150000</td>\n",
       "      <td>NaN</td>\n",
       "      <td>3/21/16 13:02</td>\n",
       "    </tr>\n",
       "  </tbody>\n",
       "</table>\n",
       "</div>"
      ],
      "text/plain": [
       "   salary_id       employer_name      location_name location_state  \\\n",
       "0          1              opower  san francisco, ca             CA   \n",
       "1          3             walmart    bentonville, ar             AR   \n",
       "2          4  vertical knowledge      cleveland, oh             OH   \n",
       "3          6              netapp            waltham            NaN   \n",
       "4         12               apple          cupertino            NaN   \n",
       "\n",
       "  location_country  location_latitude  location_longitude          job_title  \\\n",
       "0               US                 38                -122   systems engineer   \n",
       "1               US                 36                 -94   senior developer   \n",
       "2               US                 41                 -82  software engineer   \n",
       "3              NaN                NaN                 NaN                mts   \n",
       "4              NaN                NaN                 NaN  software engineer   \n",
       "\n",
       "  job_title_category job_title_rank  total_experience_years  \\\n",
       "0        Engineering            NaN                      13   \n",
       "1           Software         Senior                      15   \n",
       "2           Software            NaN                       4   \n",
       "3              Other            NaN                       4   \n",
       "4           Software            NaN                       4   \n",
       "\n",
       "   employer_experience_years  annual_base_pay  signing_bonus  annual_bonus  \\\n",
       "0                          2           125000           5000             0   \n",
       "1                          8            65000            NaN          5000   \n",
       "2                          1            86000           5000          6000   \n",
       "3                          0           105000           5000          8500   \n",
       "4                          3           110000           5000          7000   \n",
       "\n",
       "  stock_value_bonus          comments   submitted_at  \n",
       "0       5000 shares  Don't work here.  3/21/16 12:58  \n",
       "1             3,000               NaN  3/21/16 12:58  \n",
       "2                 0               NaN  3/21/16 12:59  \n",
       "3                 0               NaN  3/21/16 13:00  \n",
       "4            150000               NaN  3/21/16 13:02  "
      ]
     },
     "execution_count": 157,
     "metadata": {},
     "output_type": "execute_result"
    }
   ],
   "source": [
    "df.head()"
   ]
  },
  {
   "cell_type": "code",
   "execution_count": 158,
   "metadata": {},
   "outputs": [
    {
     "name": "stdout",
     "output_type": "stream",
     "text": [
      "<class 'pandas.core.frame.DataFrame'>\n",
      "RangeIndex: 1655 entries, 0 to 1654\n",
      "Data columns (total 18 columns):\n",
      " #   Column                     Non-Null Count  Dtype  \n",
      "---  ------                     --------------  -----  \n",
      " 0   salary_id                  1655 non-null   int64  \n",
      " 1   employer_name              1651 non-null   object \n",
      " 2   location_name              1655 non-null   object \n",
      " 3   location_state             558 non-null    object \n",
      " 4   location_country           792 non-null    object \n",
      " 5   location_latitude          792 non-null    float64\n",
      " 6   location_longitude         792 non-null    float64\n",
      " 7   job_title                  1655 non-null   object \n",
      " 8   job_title_category         1655 non-null   object \n",
      " 9   job_title_rank             425 non-null    object \n",
      " 10  total_experience_years     1608 non-null   float64\n",
      " 11  employer_experience_years  1608 non-null   float64\n",
      " 12  annual_base_pay            1651 non-null   float64\n",
      " 13  signing_bonus              1332 non-null   float64\n",
      " 14  annual_bonus               1336 non-null   float64\n",
      " 15  stock_value_bonus          1246 non-null   object \n",
      " 16  comments                   292 non-null    object \n",
      " 17  submitted_at               1655 non-null   object \n",
      "dtypes: float64(7), int64(1), object(10)\n",
      "memory usage: 232.9+ KB\n"
     ]
    }
   ],
   "source": [
    "df.info()"
   ]
  },
  {
   "cell_type": "code",
   "execution_count": 159,
   "metadata": {},
   "outputs": [
    {
     "data": {
      "text/plain": [
       "salary_id                       0\n",
       "employer_name                   4\n",
       "location_name                   0\n",
       "location_state               1097\n",
       "location_country              863\n",
       "location_latitude             863\n",
       "location_longitude            863\n",
       "job_title                       0\n",
       "job_title_category              0\n",
       "job_title_rank               1230\n",
       "total_experience_years         47\n",
       "employer_experience_years      47\n",
       "annual_base_pay                 4\n",
       "signing_bonus                 323\n",
       "annual_bonus                  319\n",
       "stock_value_bonus             409\n",
       "comments                     1363\n",
       "submitted_at                    0\n",
       "dtype: int64"
      ]
     },
     "execution_count": 159,
     "metadata": {},
     "output_type": "execute_result"
    }
   ],
   "source": [
    "df.isna().sum()"
   ]
  },
  {
   "cell_type": "code",
   "execution_count": 160,
   "metadata": {},
   "outputs": [
    {
     "name": "stdout",
     "output_type": "stream",
     "text": [
      "Empty values: % 25\n"
     ]
    }
   ],
   "source": [
    "print(\"Empty values: %\", round(df.isnull().sum().sum() / (len(df) * len(df.columns))*100))"
   ]
  },
  {
   "cell_type": "code",
   "execution_count": 161,
   "metadata": {},
   "outputs": [
    {
     "data": {
      "text/html": [
       "<div>\n",
       "<style scoped>\n",
       "    .dataframe tbody tr th:only-of-type {\n",
       "        vertical-align: middle;\n",
       "    }\n",
       "\n",
       "    .dataframe tbody tr th {\n",
       "        vertical-align: top;\n",
       "    }\n",
       "\n",
       "    .dataframe thead th {\n",
       "        text-align: right;\n",
       "    }\n",
       "</style>\n",
       "<table border=\"1\" class=\"dataframe\">\n",
       "  <thead>\n",
       "    <tr style=\"text-align: right;\">\n",
       "      <th></th>\n",
       "      <th>salary_id</th>\n",
       "      <th>location_latitude</th>\n",
       "      <th>location_longitude</th>\n",
       "      <th>total_experience_years</th>\n",
       "      <th>employer_experience_years</th>\n",
       "      <th>annual_base_pay</th>\n",
       "      <th>signing_bonus</th>\n",
       "      <th>annual_bonus</th>\n",
       "    </tr>\n",
       "  </thead>\n",
       "  <tbody>\n",
       "    <tr>\n",
       "      <th>count</th>\n",
       "      <td>1655</td>\n",
       "      <td>792</td>\n",
       "      <td>792</td>\n",
       "      <td>1608</td>\n",
       "      <td>1608</td>\n",
       "      <td>1651</td>\n",
       "      <td>1332</td>\n",
       "      <td>1336</td>\n",
       "    </tr>\n",
       "    <tr>\n",
       "      <th>mean</th>\n",
       "      <td>1684</td>\n",
       "      <td>38</td>\n",
       "      <td>-65</td>\n",
       "      <td>7</td>\n",
       "      <td>3</td>\n",
       "      <td>6325004</td>\n",
       "      <td>22406</td>\n",
       "      <td>11776</td>\n",
       "    </tr>\n",
       "    <tr>\n",
       "      <th>std</th>\n",
       "      <td>933</td>\n",
       "      <td>17</td>\n",
       "      <td>67</td>\n",
       "      <td>6</td>\n",
       "      <td>3</td>\n",
       "      <td>246135277</td>\n",
       "      <td>309799</td>\n",
       "      <td>69216</td>\n",
       "    </tr>\n",
       "    <tr>\n",
       "      <th>min</th>\n",
       "      <td>1</td>\n",
       "      <td>-41</td>\n",
       "      <td>-123</td>\n",
       "      <td>0</td>\n",
       "      <td>0</td>\n",
       "      <td>0</td>\n",
       "      <td>0</td>\n",
       "      <td>0</td>\n",
       "    </tr>\n",
       "    <tr>\n",
       "      <th>25%</th>\n",
       "      <td>897</td>\n",
       "      <td>37</td>\n",
       "      <td>-103</td>\n",
       "      <td>3</td>\n",
       "      <td>1</td>\n",
       "      <td>61000</td>\n",
       "      <td>0</td>\n",
       "      <td>0</td>\n",
       "    </tr>\n",
       "    <tr>\n",
       "      <th>50%</th>\n",
       "      <td>1711</td>\n",
       "      <td>39</td>\n",
       "      <td>-95</td>\n",
       "      <td>5</td>\n",
       "      <td>2</td>\n",
       "      <td>99480</td>\n",
       "      <td>0</td>\n",
       "      <td>500</td>\n",
       "    </tr>\n",
       "    <tr>\n",
       "      <th>75%</th>\n",
       "      <td>2477</td>\n",
       "      <td>45</td>\n",
       "      <td>-65</td>\n",
       "      <td>10</td>\n",
       "      <td>3</td>\n",
       "      <td>130000</td>\n",
       "      <td>5000</td>\n",
       "      <td>10000</td>\n",
       "    </tr>\n",
       "    <tr>\n",
       "      <th>max</th>\n",
       "      <td>3298</td>\n",
       "      <td>65</td>\n",
       "      <td>174</td>\n",
       "      <td>56</td>\n",
       "      <td>58</td>\n",
       "      <td>9999999999</td>\n",
       "      <td>8999999</td>\n",
       "      <td>2000000</td>\n",
       "    </tr>\n",
       "  </tbody>\n",
       "</table>\n",
       "</div>"
      ],
      "text/plain": [
       "       salary_id  location_latitude  location_longitude  \\\n",
       "count       1655                792                 792   \n",
       "mean        1684                 38                 -65   \n",
       "std          933                 17                  67   \n",
       "min            1                -41                -123   \n",
       "25%          897                 37                -103   \n",
       "50%         1711                 39                 -95   \n",
       "75%         2477                 45                 -65   \n",
       "max         3298                 65                 174   \n",
       "\n",
       "       total_experience_years  employer_experience_years  annual_base_pay  \\\n",
       "count                    1608                       1608             1651   \n",
       "mean                        7                          3          6325004   \n",
       "std                         6                          3        246135277   \n",
       "min                         0                          0                0   \n",
       "25%                         3                          1            61000   \n",
       "50%                         5                          2            99480   \n",
       "75%                        10                          3           130000   \n",
       "max                        56                         58       9999999999   \n",
       "\n",
       "       signing_bonus  annual_bonus  \n",
       "count           1332          1336  \n",
       "mean           22406         11776  \n",
       "std           309799         69216  \n",
       "min                0             0  \n",
       "25%                0             0  \n",
       "50%                0           500  \n",
       "75%             5000         10000  \n",
       "max          8999999       2000000  "
      ]
     },
     "execution_count": 161,
     "metadata": {},
     "output_type": "execute_result"
    }
   ],
   "source": [
    "df.describe()"
   ]
  },
  {
   "cell_type": "code",
   "execution_count": 162,
   "metadata": {},
   "outputs": [
    {
     "data": {
      "text/html": [
       "<div>\n",
       "<style scoped>\n",
       "    .dataframe tbody tr th:only-of-type {\n",
       "        vertical-align: middle;\n",
       "    }\n",
       "\n",
       "    .dataframe tbody tr th {\n",
       "        vertical-align: top;\n",
       "    }\n",
       "\n",
       "    .dataframe thead th {\n",
       "        text-align: right;\n",
       "    }\n",
       "</style>\n",
       "<table border=\"1\" class=\"dataframe\">\n",
       "  <thead>\n",
       "    <tr style=\"text-align: right;\">\n",
       "      <th></th>\n",
       "      <th>salary_id</th>\n",
       "      <th>employer_name</th>\n",
       "      <th>location_name</th>\n",
       "      <th>location_state</th>\n",
       "      <th>location_country</th>\n",
       "      <th>location_latitude</th>\n",
       "      <th>location_longitude</th>\n",
       "      <th>job_title</th>\n",
       "      <th>job_title_category</th>\n",
       "      <th>job_title_rank</th>\n",
       "      <th>total_experience_years</th>\n",
       "      <th>employer_experience_years</th>\n",
       "      <th>annual_base_pay</th>\n",
       "      <th>signing_bonus</th>\n",
       "      <th>annual_bonus</th>\n",
       "      <th>stock_value_bonus</th>\n",
       "      <th>comments</th>\n",
       "      <th>submitted_at</th>\n",
       "    </tr>\n",
       "  </thead>\n",
       "  <tbody>\n",
       "    <tr>\n",
       "      <th>0</th>\n",
       "      <td>1</td>\n",
       "      <td>opower</td>\n",
       "      <td>san francisco, ca</td>\n",
       "      <td>CA</td>\n",
       "      <td>US</td>\n",
       "      <td>38</td>\n",
       "      <td>-122</td>\n",
       "      <td>systems engineer</td>\n",
       "      <td>Engineering</td>\n",
       "      <td>NaN</td>\n",
       "      <td>13</td>\n",
       "      <td>2</td>\n",
       "      <td>125000</td>\n",
       "      <td>5000</td>\n",
       "      <td>0</td>\n",
       "      <td>5000 shares</td>\n",
       "      <td>Don't work here.</td>\n",
       "      <td>3/21/16 12:58</td>\n",
       "    </tr>\n",
       "    <tr>\n",
       "      <th>1</th>\n",
       "      <td>3</td>\n",
       "      <td>walmart</td>\n",
       "      <td>bentonville, ar</td>\n",
       "      <td>AR</td>\n",
       "      <td>US</td>\n",
       "      <td>36</td>\n",
       "      <td>-94</td>\n",
       "      <td>senior developer</td>\n",
       "      <td>Software</td>\n",
       "      <td>Senior</td>\n",
       "      <td>15</td>\n",
       "      <td>8</td>\n",
       "      <td>65000</td>\n",
       "      <td>NaN</td>\n",
       "      <td>5000</td>\n",
       "      <td>3,000</td>\n",
       "      <td>NaN</td>\n",
       "      <td>3/21/16 12:58</td>\n",
       "    </tr>\n",
       "    <tr>\n",
       "      <th>2</th>\n",
       "      <td>4</td>\n",
       "      <td>vertical knowledge</td>\n",
       "      <td>cleveland, oh</td>\n",
       "      <td>OH</td>\n",
       "      <td>US</td>\n",
       "      <td>41</td>\n",
       "      <td>-82</td>\n",
       "      <td>software engineer</td>\n",
       "      <td>Software</td>\n",
       "      <td>NaN</td>\n",
       "      <td>4</td>\n",
       "      <td>1</td>\n",
       "      <td>86000</td>\n",
       "      <td>5000</td>\n",
       "      <td>6000</td>\n",
       "      <td>0</td>\n",
       "      <td>NaN</td>\n",
       "      <td>3/21/16 12:59</td>\n",
       "    </tr>\n",
       "    <tr>\n",
       "      <th>3</th>\n",
       "      <td>6</td>\n",
       "      <td>netapp</td>\n",
       "      <td>waltham</td>\n",
       "      <td>NaN</td>\n",
       "      <td>NaN</td>\n",
       "      <td>NaN</td>\n",
       "      <td>NaN</td>\n",
       "      <td>mts</td>\n",
       "      <td>Other</td>\n",
       "      <td>NaN</td>\n",
       "      <td>4</td>\n",
       "      <td>0</td>\n",
       "      <td>105000</td>\n",
       "      <td>5000</td>\n",
       "      <td>8500</td>\n",
       "      <td>0</td>\n",
       "      <td>NaN</td>\n",
       "      <td>3/21/16 13:00</td>\n",
       "    </tr>\n",
       "    <tr>\n",
       "      <th>4</th>\n",
       "      <td>12</td>\n",
       "      <td>apple</td>\n",
       "      <td>cupertino</td>\n",
       "      <td>NaN</td>\n",
       "      <td>NaN</td>\n",
       "      <td>NaN</td>\n",
       "      <td>NaN</td>\n",
       "      <td>software engineer</td>\n",
       "      <td>Software</td>\n",
       "      <td>NaN</td>\n",
       "      <td>4</td>\n",
       "      <td>3</td>\n",
       "      <td>110000</td>\n",
       "      <td>5000</td>\n",
       "      <td>7000</td>\n",
       "      <td>150000</td>\n",
       "      <td>NaN</td>\n",
       "      <td>3/21/16 13:02</td>\n",
       "    </tr>\n",
       "    <tr>\n",
       "      <th>...</th>\n",
       "      <td>...</td>\n",
       "      <td>...</td>\n",
       "      <td>...</td>\n",
       "      <td>...</td>\n",
       "      <td>...</td>\n",
       "      <td>...</td>\n",
       "      <td>...</td>\n",
       "      <td>...</td>\n",
       "      <td>...</td>\n",
       "      <td>...</td>\n",
       "      <td>...</td>\n",
       "      <td>...</td>\n",
       "      <td>...</td>\n",
       "      <td>...</td>\n",
       "      <td>...</td>\n",
       "      <td>...</td>\n",
       "      <td>...</td>\n",
       "      <td>...</td>\n",
       "    </tr>\n",
       "    <tr>\n",
       "      <th>1650</th>\n",
       "      <td>3289</td>\n",
       "      <td>sparkfun electronics</td>\n",
       "      <td>boulder, co</td>\n",
       "      <td>CO</td>\n",
       "      <td>US</td>\n",
       "      <td>40</td>\n",
       "      <td>-105</td>\n",
       "      <td>junior software developer</td>\n",
       "      <td>Software</td>\n",
       "      <td>Junior</td>\n",
       "      <td>1</td>\n",
       "      <td>0</td>\n",
       "      <td>60500</td>\n",
       "      <td>0</td>\n",
       "      <td>800</td>\n",
       "      <td>0</td>\n",
       "      <td>NaN</td>\n",
       "      <td>3/23/16 8:24</td>\n",
       "    </tr>\n",
       "    <tr>\n",
       "      <th>1651</th>\n",
       "      <td>3290</td>\n",
       "      <td>intel</td>\n",
       "      <td>europe</td>\n",
       "      <td>NaN</td>\n",
       "      <td>NaN</td>\n",
       "      <td>NaN</td>\n",
       "      <td>NaN</td>\n",
       "      <td>staff software enginer</td>\n",
       "      <td>Software</td>\n",
       "      <td>NaN</td>\n",
       "      <td>6</td>\n",
       "      <td>4</td>\n",
       "      <td>164000</td>\n",
       "      <td>0</td>\n",
       "      <td>20000</td>\n",
       "      <td>30000 USD</td>\n",
       "      <td>NaN</td>\n",
       "      <td>3/23/16 8:27</td>\n",
       "    </tr>\n",
       "    <tr>\n",
       "      <th>1652</th>\n",
       "      <td>3293</td>\n",
       "      <td>$2bn valuation tech company</td>\n",
       "      <td>nyc</td>\n",
       "      <td>NaN</td>\n",
       "      <td>NaN</td>\n",
       "      <td>NaN</td>\n",
       "      <td>NaN</td>\n",
       "      <td>sr. frontend eng</td>\n",
       "      <td>Web</td>\n",
       "      <td>Senior</td>\n",
       "      <td>7</td>\n",
       "      <td>1</td>\n",
       "      <td>150000</td>\n",
       "      <td>0</td>\n",
       "      <td>0</td>\n",
       "      <td>0</td>\n",
       "      <td>NaN</td>\n",
       "      <td>3/23/16 8:41</td>\n",
       "    </tr>\n",
       "    <tr>\n",
       "      <th>1653</th>\n",
       "      <td>3294</td>\n",
       "      <td>of maryland</td>\n",
       "      <td>college park, md</td>\n",
       "      <td>MD</td>\n",
       "      <td>US</td>\n",
       "      <td>39</td>\n",
       "      <td>-77</td>\n",
       "      <td>scientific programmer (faculty research assist...</td>\n",
       "      <td>Applied Science</td>\n",
       "      <td>NaN</td>\n",
       "      <td>5</td>\n",
       "      <td>1</td>\n",
       "      <td>75000</td>\n",
       "      <td>NaN</td>\n",
       "      <td>NaN</td>\n",
       "      <td>NaN</td>\n",
       "      <td>NaN</td>\n",
       "      <td>3/23/16 8:43</td>\n",
       "    </tr>\n",
       "    <tr>\n",
       "      <th>1654</th>\n",
       "      <td>3298</td>\n",
       "      <td>linkedin</td>\n",
       "      <td>sunnyvale</td>\n",
       "      <td>NaN</td>\n",
       "      <td>NaN</td>\n",
       "      <td>NaN</td>\n",
       "      <td>NaN</td>\n",
       "      <td>business analytics intern</td>\n",
       "      <td>Other</td>\n",
       "      <td>Intern</td>\n",
       "      <td>2</td>\n",
       "      <td>0</td>\n",
       "      <td>50</td>\n",
       "      <td>0</td>\n",
       "      <td>0</td>\n",
       "      <td>0</td>\n",
       "      <td>NaN</td>\n",
       "      <td>3/23/16 9:12</td>\n",
       "    </tr>\n",
       "  </tbody>\n",
       "</table>\n",
       "<p>1655 rows × 18 columns</p>\n",
       "</div>"
      ],
      "text/plain": [
       "      salary_id                employer_name      location_name  \\\n",
       "0             1                       opower  san francisco, ca   \n",
       "1             3                      walmart    bentonville, ar   \n",
       "2             4           vertical knowledge      cleveland, oh   \n",
       "3             6                       netapp            waltham   \n",
       "4            12                        apple          cupertino   \n",
       "...         ...                          ...                ...   \n",
       "1650       3289         sparkfun electronics        boulder, co   \n",
       "1651       3290                        intel             europe   \n",
       "1652       3293  $2bn valuation tech company                nyc   \n",
       "1653       3294                  of maryland   college park, md   \n",
       "1654       3298                     linkedin          sunnyvale   \n",
       "\n",
       "     location_state location_country  location_latitude  location_longitude  \\\n",
       "0                CA               US                 38                -122   \n",
       "1                AR               US                 36                 -94   \n",
       "2                OH               US                 41                 -82   \n",
       "3               NaN              NaN                NaN                 NaN   \n",
       "4               NaN              NaN                NaN                 NaN   \n",
       "...             ...              ...                ...                 ...   \n",
       "1650             CO               US                 40                -105   \n",
       "1651            NaN              NaN                NaN                 NaN   \n",
       "1652            NaN              NaN                NaN                 NaN   \n",
       "1653             MD               US                 39                 -77   \n",
       "1654            NaN              NaN                NaN                 NaN   \n",
       "\n",
       "                                              job_title job_title_category  \\\n",
       "0                                      systems engineer        Engineering   \n",
       "1                                      senior developer           Software   \n",
       "2                                     software engineer           Software   \n",
       "3                                                   mts              Other   \n",
       "4                                     software engineer           Software   \n",
       "...                                                 ...                ...   \n",
       "1650                          junior software developer           Software   \n",
       "1651                             staff software enginer           Software   \n",
       "1652                                   sr. frontend eng                Web   \n",
       "1653  scientific programmer (faculty research assist...    Applied Science   \n",
       "1654                          business analytics intern              Other   \n",
       "\n",
       "     job_title_rank  total_experience_years  employer_experience_years  \\\n",
       "0               NaN                      13                          2   \n",
       "1            Senior                      15                          8   \n",
       "2               NaN                       4                          1   \n",
       "3               NaN                       4                          0   \n",
       "4               NaN                       4                          3   \n",
       "...             ...                     ...                        ...   \n",
       "1650         Junior                       1                          0   \n",
       "1651            NaN                       6                          4   \n",
       "1652         Senior                       7                          1   \n",
       "1653            NaN                       5                          1   \n",
       "1654         Intern                       2                          0   \n",
       "\n",
       "      annual_base_pay  signing_bonus  annual_bonus stock_value_bonus  \\\n",
       "0              125000           5000             0       5000 shares   \n",
       "1               65000            NaN          5000             3,000   \n",
       "2               86000           5000          6000                 0   \n",
       "3              105000           5000          8500                 0   \n",
       "4              110000           5000          7000            150000   \n",
       "...               ...            ...           ...               ...   \n",
       "1650            60500              0           800                 0   \n",
       "1651           164000              0         20000         30000 USD   \n",
       "1652           150000              0             0                 0   \n",
       "1653            75000            NaN           NaN               NaN   \n",
       "1654               50              0             0                 0   \n",
       "\n",
       "              comments   submitted_at  \n",
       "0     Don't work here.  3/21/16 12:58  \n",
       "1                  NaN  3/21/16 12:58  \n",
       "2                  NaN  3/21/16 12:59  \n",
       "3                  NaN  3/21/16 13:00  \n",
       "4                  NaN  3/21/16 13:02  \n",
       "...                ...            ...  \n",
       "1650               NaN   3/23/16 8:24  \n",
       "1651               NaN   3/23/16 8:27  \n",
       "1652               NaN   3/23/16 8:41  \n",
       "1653               NaN   3/23/16 8:43  \n",
       "1654               NaN   3/23/16 9:12  \n",
       "\n",
       "[1655 rows x 18 columns]"
      ]
     },
     "execution_count": 162,
     "metadata": {},
     "output_type": "execute_result"
    }
   ],
   "source": [
    "df\n"
   ]
  },
  {
   "cell_type": "code",
   "execution_count": 163,
   "metadata": {},
   "outputs": [
    {
     "data": {
      "text/html": [
       "<div>\n",
       "<style scoped>\n",
       "    .dataframe tbody tr th:only-of-type {\n",
       "        vertical-align: middle;\n",
       "    }\n",
       "\n",
       "    .dataframe tbody tr th {\n",
       "        vertical-align: top;\n",
       "    }\n",
       "\n",
       "    .dataframe thead th {\n",
       "        text-align: right;\n",
       "    }\n",
       "</style>\n",
       "<table border=\"1\" class=\"dataframe\">\n",
       "  <thead>\n",
       "    <tr style=\"text-align: right;\">\n",
       "      <th></th>\n",
       "      <th>salary_id</th>\n",
       "      <th>employer_name</th>\n",
       "      <th>location_name</th>\n",
       "      <th>location_state</th>\n",
       "      <th>location_country</th>\n",
       "      <th>location_latitude</th>\n",
       "      <th>location_longitude</th>\n",
       "      <th>job_title</th>\n",
       "      <th>job_title_category</th>\n",
       "      <th>job_title_rank</th>\n",
       "      <th>total_experience_years</th>\n",
       "      <th>employer_experience_years</th>\n",
       "      <th>annual_base_pay</th>\n",
       "      <th>signing_bonus</th>\n",
       "      <th>annual_bonus</th>\n",
       "      <th>stock_value_bonus</th>\n",
       "      <th>comments</th>\n",
       "      <th>submitted_at</th>\n",
       "    </tr>\n",
       "  </thead>\n",
       "  <tbody>\n",
       "    <tr>\n",
       "      <th>18</th>\n",
       "      <td>40</td>\n",
       "      <td>oracle</td>\n",
       "      <td>bala cynwyd, pa</td>\n",
       "      <td>PA</td>\n",
       "      <td>US</td>\n",
       "      <td>40</td>\n",
       "      <td>-75</td>\n",
       "      <td>student intern co-op</td>\n",
       "      <td>Other</td>\n",
       "      <td>Intern</td>\n",
       "      <td>0</td>\n",
       "      <td>0</td>\n",
       "      <td>24</td>\n",
       "      <td>0</td>\n",
       "      <td>0</td>\n",
       "      <td>$0</td>\n",
       "      <td>NaN</td>\n",
       "      <td>3/21/16 13:06</td>\n",
       "    </tr>\n",
       "    <tr>\n",
       "      <th>111</th>\n",
       "      <td>256</td>\n",
       "      <td>american express</td>\n",
       "      <td>phoenix, arizona</td>\n",
       "      <td>AZ</td>\n",
       "      <td>US</td>\n",
       "      <td>33</td>\n",
       "      <td>-112</td>\n",
       "      <td>intern</td>\n",
       "      <td>Other</td>\n",
       "      <td>Intern</td>\n",
       "      <td>0</td>\n",
       "      <td>0</td>\n",
       "      <td>60000</td>\n",
       "      <td>5000</td>\n",
       "      <td>NaN</td>\n",
       "      <td>NaN</td>\n",
       "      <td>Summer Intern, June-August</td>\n",
       "      <td>3/21/16 13:25</td>\n",
       "    </tr>\n",
       "    <tr>\n",
       "      <th>158</th>\n",
       "      <td>373</td>\n",
       "      <td>verizon</td>\n",
       "      <td>tampa</td>\n",
       "      <td>NaN</td>\n",
       "      <td>NaN</td>\n",
       "      <td>NaN</td>\n",
       "      <td>NaN</td>\n",
       "      <td>internal help desk</td>\n",
       "      <td>Other</td>\n",
       "      <td>Intern</td>\n",
       "      <td>4</td>\n",
       "      <td>4</td>\n",
       "      <td>38000</td>\n",
       "      <td>0</td>\n",
       "      <td>3000</td>\n",
       "      <td>NaN</td>\n",
       "      <td>NaN</td>\n",
       "      <td>3/21/16 13:32</td>\n",
       "    </tr>\n",
       "    <tr>\n",
       "      <th>207</th>\n",
       "      <td>470</td>\n",
       "      <td>facebook</td>\n",
       "      <td>menlo park</td>\n",
       "      <td>NaN</td>\n",
       "      <td>NaN</td>\n",
       "      <td>NaN</td>\n",
       "      <td>NaN</td>\n",
       "      <td>software engineering intern</td>\n",
       "      <td>Software</td>\n",
       "      <td>Intern</td>\n",
       "      <td>1</td>\n",
       "      <td>0</td>\n",
       "      <td>96000</td>\n",
       "      <td>0</td>\n",
       "      <td>0</td>\n",
       "      <td>0</td>\n",
       "      <td>NaN</td>\n",
       "      <td>3/21/16 13:39</td>\n",
       "    </tr>\n",
       "    <tr>\n",
       "      <th>263</th>\n",
       "      <td>568</td>\n",
       "      <td>ibm watson research</td>\n",
       "      <td>yorktown,ny</td>\n",
       "      <td>NaN</td>\n",
       "      <td>NaN</td>\n",
       "      <td>NaN</td>\n",
       "      <td>NaN</td>\n",
       "      <td>research intern</td>\n",
       "      <td>Other</td>\n",
       "      <td>Intern</td>\n",
       "      <td>0</td>\n",
       "      <td>1</td>\n",
       "      <td>100000</td>\n",
       "      <td>0</td>\n",
       "      <td>0</td>\n",
       "      <td>0</td>\n",
       "      <td>NaN</td>\n",
       "      <td>3/21/16 13:44</td>\n",
       "    </tr>\n",
       "    <tr>\n",
       "      <th>385</th>\n",
       "      <td>838</td>\n",
       "      <td>sandia national laboratories</td>\n",
       "      <td>albuquerque, new mexico</td>\n",
       "      <td>NaN</td>\n",
       "      <td>MX</td>\n",
       "      <td>23</td>\n",
       "      <td>-102</td>\n",
       "      <td>research intern</td>\n",
       "      <td>Other</td>\n",
       "      <td>Intern</td>\n",
       "      <td>2</td>\n",
       "      <td>0</td>\n",
       "      <td>46000</td>\n",
       "      <td>0</td>\n",
       "      <td>0</td>\n",
       "      <td>0</td>\n",
       "      <td>NaN</td>\n",
       "      <td>3/21/16 14:00</td>\n",
       "    </tr>\n",
       "    <tr>\n",
       "      <th>415</th>\n",
       "      <td>900</td>\n",
       "      <td>minted</td>\n",
       "      <td>san francisco</td>\n",
       "      <td>NaN</td>\n",
       "      <td>NaN</td>\n",
       "      <td>NaN</td>\n",
       "      <td>NaN</td>\n",
       "      <td>software intern</td>\n",
       "      <td>Software</td>\n",
       "      <td>Intern</td>\n",
       "      <td>1</td>\n",
       "      <td>0</td>\n",
       "      <td>74400</td>\n",
       "      <td>NaN</td>\n",
       "      <td>NaN</td>\n",
       "      <td>NaN</td>\n",
       "      <td>NaN</td>\n",
       "      <td>3/21/16 14:05</td>\n",
       "    </tr>\n",
       "    <tr>\n",
       "      <th>458</th>\n",
       "      <td>991</td>\n",
       "      <td>workday</td>\n",
       "      <td>pleasanton</td>\n",
       "      <td>NaN</td>\n",
       "      <td>NaN</td>\n",
       "      <td>NaN</td>\n",
       "      <td>NaN</td>\n",
       "      <td>summer intern</td>\n",
       "      <td>Other</td>\n",
       "      <td>Intern</td>\n",
       "      <td>0</td>\n",
       "      <td>0</td>\n",
       "      <td>32</td>\n",
       "      <td>0</td>\n",
       "      <td>0</td>\n",
       "      <td>0</td>\n",
       "      <td>housing + food</td>\n",
       "      <td>3/21/16 14:11</td>\n",
       "    </tr>\n",
       "    <tr>\n",
       "      <th>461</th>\n",
       "      <td>997</td>\n",
       "      <td>bioinformatics company</td>\n",
       "      <td>nijmegen</td>\n",
       "      <td>NaN</td>\n",
       "      <td>NaN</td>\n",
       "      <td>NaN</td>\n",
       "      <td>NaN</td>\n",
       "      <td>internship</td>\n",
       "      <td>Other</td>\n",
       "      <td>Intern</td>\n",
       "      <td>0</td>\n",
       "      <td>0</td>\n",
       "      <td>12000</td>\n",
       "      <td>0</td>\n",
       "      <td>0</td>\n",
       "      <td>0</td>\n",
       "      <td>This is my final internship after which I will...</td>\n",
       "      <td>3/21/16 14:12</td>\n",
       "    </tr>\n",
       "    <tr>\n",
       "      <th>590</th>\n",
       "      <td>1262</td>\n",
       "      <td>bisite research group</td>\n",
       "      <td>salamanca, spain</td>\n",
       "      <td>NaN</td>\n",
       "      <td>ES</td>\n",
       "      <td>40</td>\n",
       "      <td>-4</td>\n",
       "      <td>intern software engineer</td>\n",
       "      <td>Software</td>\n",
       "      <td>Intern</td>\n",
       "      <td>4</td>\n",
       "      <td>0</td>\n",
       "      <td>5160</td>\n",
       "      <td>0</td>\n",
       "      <td>0</td>\n",
       "      <td>0</td>\n",
       "      <td>NaN</td>\n",
       "      <td>3/21/16 14:33</td>\n",
       "    </tr>\n",
       "  </tbody>\n",
       "</table>\n",
       "</div>"
      ],
      "text/plain": [
       "     salary_id                 employer_name            location_name  \\\n",
       "18          40                        oracle          bala cynwyd, pa   \n",
       "111        256              american express         phoenix, arizona   \n",
       "158        373                       verizon                    tampa   \n",
       "207        470                      facebook               menlo park   \n",
       "263        568           ibm watson research              yorktown,ny   \n",
       "385        838  sandia national laboratories  albuquerque, new mexico   \n",
       "415        900                        minted            san francisco   \n",
       "458        991                       workday               pleasanton   \n",
       "461        997        bioinformatics company                 nijmegen   \n",
       "590       1262         bisite research group         salamanca, spain   \n",
       "\n",
       "    location_state location_country  location_latitude  location_longitude  \\\n",
       "18              PA               US                 40                 -75   \n",
       "111             AZ               US                 33                -112   \n",
       "158            NaN              NaN                NaN                 NaN   \n",
       "207            NaN              NaN                NaN                 NaN   \n",
       "263            NaN              NaN                NaN                 NaN   \n",
       "385            NaN               MX                 23                -102   \n",
       "415            NaN              NaN                NaN                 NaN   \n",
       "458            NaN              NaN                NaN                 NaN   \n",
       "461            NaN              NaN                NaN                 NaN   \n",
       "590            NaN               ES                 40                  -4   \n",
       "\n",
       "                       job_title job_title_category job_title_rank  \\\n",
       "18          student intern co-op              Other         Intern   \n",
       "111                       intern              Other         Intern   \n",
       "158           internal help desk              Other         Intern   \n",
       "207  software engineering intern           Software         Intern   \n",
       "263              research intern              Other         Intern   \n",
       "385              research intern              Other         Intern   \n",
       "415              software intern           Software         Intern   \n",
       "458                summer intern              Other         Intern   \n",
       "461                   internship              Other         Intern   \n",
       "590     intern software engineer           Software         Intern   \n",
       "\n",
       "     total_experience_years  employer_experience_years  annual_base_pay  \\\n",
       "18                        0                          0               24   \n",
       "111                       0                          0            60000   \n",
       "158                       4                          4            38000   \n",
       "207                       1                          0            96000   \n",
       "263                       0                          1           100000   \n",
       "385                       2                          0            46000   \n",
       "415                       1                          0            74400   \n",
       "458                       0                          0               32   \n",
       "461                       0                          0            12000   \n",
       "590                       4                          0             5160   \n",
       "\n",
       "     signing_bonus  annual_bonus stock_value_bonus  \\\n",
       "18               0             0                $0   \n",
       "111           5000           NaN               NaN   \n",
       "158              0          3000               NaN   \n",
       "207              0             0                 0   \n",
       "263              0             0                 0   \n",
       "385              0             0                 0   \n",
       "415            NaN           NaN               NaN   \n",
       "458              0             0                 0   \n",
       "461              0             0                 0   \n",
       "590              0             0                 0   \n",
       "\n",
       "                                              comments   submitted_at  \n",
       "18                                                 NaN  3/21/16 13:06  \n",
       "111                         Summer Intern, June-August  3/21/16 13:25  \n",
       "158                                                NaN  3/21/16 13:32  \n",
       "207                                                NaN  3/21/16 13:39  \n",
       "263                                                NaN  3/21/16 13:44  \n",
       "385                                                NaN  3/21/16 14:00  \n",
       "415                                                NaN  3/21/16 14:05  \n",
       "458                                     housing + food  3/21/16 14:11  \n",
       "461  This is my final internship after which I will...  3/21/16 14:12  \n",
       "590                                                NaN  3/21/16 14:33  "
      ]
     },
     "execution_count": 163,
     "metadata": {},
     "output_type": "execute_result"
    }
   ],
   "source": [
    "df[df[\"job_title_rank\"] == \"Intern\"].head(10)"
   ]
  },
  {
   "cell_type": "markdown",
   "metadata": {},
   "source": [
    "## Clean the Data"
   ]
  },
  {
   "cell_type": "code",
   "execution_count": 164,
   "metadata": {},
   "outputs": [
    {
     "data": {
      "text/plain": [
       "Index(['salary_id', 'employer_name', 'location_name', 'location_state',\n",
       "       'location_country', 'location_latitude', 'location_longitude',\n",
       "       'job_title', 'job_title_category', 'job_title_rank',\n",
       "       'total_experience_years', 'employer_experience_years',\n",
       "       'annual_base_pay', 'signing_bonus', 'annual_bonus', 'stock_value_bonus',\n",
       "       'comments', 'submitted_at'],\n",
       "      dtype='object')"
      ]
     },
     "execution_count": 164,
     "metadata": {},
     "output_type": "execute_result"
    }
   ],
   "source": [
    "df.columns"
   ]
  },
  {
   "cell_type": "code",
   "execution_count": 165,
   "metadata": {},
   "outputs": [],
   "source": [
    "df = df.drop(['salary_id','location_name', 'location_state',\n",
    "       'location_country', 'location_latitude', 'location_longitude','job_title_rank','comments','stock_value_bonus',\n",
    "       'submitted_at'],axis =1)"
   ]
  },
  {
   "cell_type": "code",
   "execution_count": 166,
   "metadata": {},
   "outputs": [
    {
     "data": {
      "text/html": [
       "<div>\n",
       "<style scoped>\n",
       "    .dataframe tbody tr th:only-of-type {\n",
       "        vertical-align: middle;\n",
       "    }\n",
       "\n",
       "    .dataframe tbody tr th {\n",
       "        vertical-align: top;\n",
       "    }\n",
       "\n",
       "    .dataframe thead th {\n",
       "        text-align: right;\n",
       "    }\n",
       "</style>\n",
       "<table border=\"1\" class=\"dataframe\">\n",
       "  <thead>\n",
       "    <tr style=\"text-align: right;\">\n",
       "      <th></th>\n",
       "      <th>employer_name</th>\n",
       "      <th>job_title</th>\n",
       "      <th>job_title_category</th>\n",
       "      <th>total_experience_years</th>\n",
       "      <th>employer_experience_years</th>\n",
       "      <th>annual_base_pay</th>\n",
       "      <th>signing_bonus</th>\n",
       "      <th>annual_bonus</th>\n",
       "    </tr>\n",
       "  </thead>\n",
       "  <tbody>\n",
       "    <tr>\n",
       "      <th>0</th>\n",
       "      <td>opower</td>\n",
       "      <td>systems engineer</td>\n",
       "      <td>Engineering</td>\n",
       "      <td>13</td>\n",
       "      <td>2</td>\n",
       "      <td>125000</td>\n",
       "      <td>5000</td>\n",
       "      <td>0</td>\n",
       "    </tr>\n",
       "    <tr>\n",
       "      <th>1</th>\n",
       "      <td>walmart</td>\n",
       "      <td>senior developer</td>\n",
       "      <td>Software</td>\n",
       "      <td>15</td>\n",
       "      <td>8</td>\n",
       "      <td>65000</td>\n",
       "      <td>NaN</td>\n",
       "      <td>5000</td>\n",
       "    </tr>\n",
       "    <tr>\n",
       "      <th>2</th>\n",
       "      <td>vertical knowledge</td>\n",
       "      <td>software engineer</td>\n",
       "      <td>Software</td>\n",
       "      <td>4</td>\n",
       "      <td>1</td>\n",
       "      <td>86000</td>\n",
       "      <td>5000</td>\n",
       "      <td>6000</td>\n",
       "    </tr>\n",
       "    <tr>\n",
       "      <th>3</th>\n",
       "      <td>netapp</td>\n",
       "      <td>mts</td>\n",
       "      <td>Other</td>\n",
       "      <td>4</td>\n",
       "      <td>0</td>\n",
       "      <td>105000</td>\n",
       "      <td>5000</td>\n",
       "      <td>8500</td>\n",
       "    </tr>\n",
       "    <tr>\n",
       "      <th>4</th>\n",
       "      <td>apple</td>\n",
       "      <td>software engineer</td>\n",
       "      <td>Software</td>\n",
       "      <td>4</td>\n",
       "      <td>3</td>\n",
       "      <td>110000</td>\n",
       "      <td>5000</td>\n",
       "      <td>7000</td>\n",
       "    </tr>\n",
       "  </tbody>\n",
       "</table>\n",
       "</div>"
      ],
      "text/plain": [
       "        employer_name          job_title job_title_category  \\\n",
       "0              opower   systems engineer        Engineering   \n",
       "1             walmart   senior developer           Software   \n",
       "2  vertical knowledge  software engineer           Software   \n",
       "3              netapp                mts              Other   \n",
       "4               apple  software engineer           Software   \n",
       "\n",
       "   total_experience_years  employer_experience_years  annual_base_pay  \\\n",
       "0                      13                          2           125000   \n",
       "1                      15                          8            65000   \n",
       "2                       4                          1            86000   \n",
       "3                       4                          0           105000   \n",
       "4                       4                          3           110000   \n",
       "\n",
       "   signing_bonus  annual_bonus  \n",
       "0           5000             0  \n",
       "1            NaN          5000  \n",
       "2           5000          6000  \n",
       "3           5000          8500  \n",
       "4           5000          7000  "
      ]
     },
     "execution_count": 166,
     "metadata": {},
     "output_type": "execute_result"
    }
   ],
   "source": [
    "df.head()"
   ]
  },
  {
   "cell_type": "code",
   "execution_count": 167,
   "metadata": {},
   "outputs": [
    {
     "data": {
      "text/plain": [
       "employer_name                  4\n",
       "job_title                      0\n",
       "job_title_category             0\n",
       "total_experience_years        47\n",
       "employer_experience_years     47\n",
       "annual_base_pay                4\n",
       "signing_bonus                323\n",
       "annual_bonus                 319\n",
       "dtype: int64"
      ]
     },
     "execution_count": 167,
     "metadata": {},
     "output_type": "execute_result"
    }
   ],
   "source": [
    "df.isna().sum()"
   ]
  },
  {
   "cell_type": "code",
   "execution_count": 168,
   "metadata": {},
   "outputs": [],
   "source": [
    "df = df.dropna(subset=[\"employer_name\",\"annual_base_pay\"]) # içindeki NaN değerleri attık. subset burada belirtili sütunları seçmemizi sağladı."
   ]
  },
  {
   "cell_type": "code",
   "execution_count": 169,
   "metadata": {},
   "outputs": [
    {
     "data": {
      "text/plain": [
       "employer_name                  0\n",
       "job_title                      0\n",
       "job_title_category             0\n",
       "total_experience_years        44\n",
       "employer_experience_years     44\n",
       "annual_base_pay                0\n",
       "signing_bonus                318\n",
       "annual_bonus                 314\n",
       "dtype: int64"
      ]
     },
     "execution_count": 169,
     "metadata": {},
     "output_type": "execute_result"
    }
   ],
   "source": [
    "df.isna().sum()"
   ]
  },
  {
   "cell_type": "code",
   "execution_count": 170,
   "metadata": {},
   "outputs": [],
   "source": [
    "df[[\"signing_bonus\",\"annual_bonus\"]] = df[[\"signing_bonus\",\"annual_bonus\"]].fillna(0) # bu sütunları da 0 ile doldurduk."
   ]
  },
  {
   "cell_type": "code",
   "execution_count": 171,
   "metadata": {},
   "outputs": [
    {
     "data": {
      "text/plain": [
       "employer_name                 0\n",
       "job_title                     0\n",
       "job_title_category            0\n",
       "total_experience_years       44\n",
       "employer_experience_years    44\n",
       "annual_base_pay               0\n",
       "signing_bonus                 0\n",
       "annual_bonus                  0\n",
       "dtype: int64"
      ]
     },
     "execution_count": 171,
     "metadata": {},
     "output_type": "execute_result"
    }
   ],
   "source": [
    "df.isna().sum()"
   ]
  },
  {
   "cell_type": "code",
   "execution_count": 172,
   "metadata": {},
   "outputs": [],
   "source": [
    "df[[\"total_experience_years\",\"employer_experience_years\"]] = df[[\"total_experience_years\",\n",
    "                                                                 \"employer_experience_years\"]].fillna(round(df[[\"total_experience_years\",\n",
    "                                                                                                                \"employer_experience_years\"]].mean()))\n",
    "# burdakileri de ortalamalarıyla doldurdum."
   ]
  },
  {
   "cell_type": "code",
   "execution_count": 173,
   "metadata": {},
   "outputs": [
    {
     "data": {
      "text/plain": [
       "employer_name                0\n",
       "job_title                    0\n",
       "job_title_category           0\n",
       "total_experience_years       0\n",
       "employer_experience_years    0\n",
       "annual_base_pay              0\n",
       "signing_bonus                0\n",
       "annual_bonus                 0\n",
       "dtype: int64"
      ]
     },
     "execution_count": 173,
     "metadata": {},
     "output_type": "execute_result"
    }
   ],
   "source": [
    "df.isna().sum()"
   ]
  },
  {
   "cell_type": "code",
   "execution_count": 174,
   "metadata": {},
   "outputs": [],
   "source": [
    "pd.set_option(\"display.float_format\", lambda x: \"%0.f\" % x) # pd.set_option(option_name, option_value)"
   ]
  },
  {
   "cell_type": "code",
   "execution_count": 175,
   "metadata": {},
   "outputs": [
    {
     "data": {
      "text/plain": [
       "1361            0\n",
       "1143            0\n",
       "382             0\n",
       "18             24\n",
       "306            28\n",
       "          ...    \n",
       "221       9250000\n",
       "1088     10280000\n",
       "1639     50000000\n",
       "1135    156000000\n",
       "1645   9999999999\n",
       "Name: annual_base_pay, Length: 1647, dtype: float64"
      ]
     },
     "execution_count": 175,
     "metadata": {},
     "output_type": "execute_result"
    }
   ],
   "source": [
    "df[\"annual_base_pay\"].sort_values() # burada bulunan 999999... gibi yada 0, 24 gibi uç değerleri istemiyorum."
   ]
  },
  {
   "cell_type": "code",
   "execution_count": 176,
   "metadata": {},
   "outputs": [],
   "source": [
    "df = df[(df[\"annual_base_pay\"] < 90_000_000) & (df[\"annual_base_pay\"] > 5000)]"
   ]
  },
  {
   "cell_type": "code",
   "execution_count": 177,
   "metadata": {},
   "outputs": [
    {
     "data": {
      "text/plain": [
       "590        5160\n",
       "407        5600\n",
       "1642       6000\n",
       "126        6000\n",
       "1341       6031\n",
       "         ...   \n",
       "1191    7500000\n",
       "298     9000000\n",
       "221     9250000\n",
       "1088   10280000\n",
       "1639   50000000\n",
       "Name: annual_base_pay, Length: 1597, dtype: float64"
      ]
     },
     "execution_count": 177,
     "metadata": {},
     "output_type": "execute_result"
    }
   ],
   "source": [
    "df[\"annual_base_pay\"].sort_values()"
   ]
  },
  {
   "cell_type": "markdown",
   "metadata": {},
   "source": [
    "## Scatter plots"
   ]
  },
  {
   "cell_type": "code",
   "execution_count": 178,
   "metadata": {},
   "outputs": [
    {
     "data": {
      "text/plain": [
       "Index(['employer_name', 'job_title', 'job_title_category',\n",
       "       'total_experience_years', 'employer_experience_years',\n",
       "       'annual_base_pay', 'signing_bonus', 'annual_bonus'],\n",
       "      dtype='object')"
      ]
     },
     "execution_count": 178,
     "metadata": {},
     "output_type": "execute_result"
    }
   ],
   "source": [
    "df.columns"
   ]
  },
  {
   "cell_type": "code",
   "execution_count": 179,
   "metadata": {},
   "outputs": [],
   "source": [
    "df.rename(columns = {\n",
    "    'employer_name':'company',\n",
    "    'job_title':'title',\n",
    "    'job_title_category':'category',\n",
    "    'total_experience_years':'total_exp',\n",
    "    'employer_experience_years':'local_exp',\n",
    "    'annual_base_pay':'salary'\n",
    "}, inplace = True)\n",
    "\n",
    "\n",
    "# anlaşılır olsun diye böyle bir sözlük veri yapısı oluşturdum."
   ]
  },
  {
   "cell_type": "code",
   "execution_count": 180,
   "metadata": {},
   "outputs": [
    {
     "data": {
      "text/html": [
       "<div>\n",
       "<style scoped>\n",
       "    .dataframe tbody tr th:only-of-type {\n",
       "        vertical-align: middle;\n",
       "    }\n",
       "\n",
       "    .dataframe tbody tr th {\n",
       "        vertical-align: top;\n",
       "    }\n",
       "\n",
       "    .dataframe thead th {\n",
       "        text-align: right;\n",
       "    }\n",
       "</style>\n",
       "<table border=\"1\" class=\"dataframe\">\n",
       "  <thead>\n",
       "    <tr style=\"text-align: right;\">\n",
       "      <th></th>\n",
       "      <th>company</th>\n",
       "      <th>title</th>\n",
       "      <th>category</th>\n",
       "      <th>total_exp</th>\n",
       "      <th>local_exp</th>\n",
       "      <th>salary</th>\n",
       "      <th>signing_bonus</th>\n",
       "      <th>annual_bonus</th>\n",
       "    </tr>\n",
       "  </thead>\n",
       "  <tbody>\n",
       "    <tr>\n",
       "      <th>1648</th>\n",
       "      <td>facebook</td>\n",
       "      <td>software engineer</td>\n",
       "      <td>Software</td>\n",
       "      <td>4</td>\n",
       "      <td>2</td>\n",
       "      <td>130000</td>\n",
       "      <td>20000</td>\n",
       "      <td>13000</td>\n",
       "    </tr>\n",
       "    <tr>\n",
       "      <th>1650</th>\n",
       "      <td>sparkfun electronics</td>\n",
       "      <td>junior software developer</td>\n",
       "      <td>Software</td>\n",
       "      <td>1</td>\n",
       "      <td>0</td>\n",
       "      <td>60500</td>\n",
       "      <td>0</td>\n",
       "      <td>800</td>\n",
       "    </tr>\n",
       "    <tr>\n",
       "      <th>1651</th>\n",
       "      <td>intel</td>\n",
       "      <td>staff software enginer</td>\n",
       "      <td>Software</td>\n",
       "      <td>6</td>\n",
       "      <td>4</td>\n",
       "      <td>164000</td>\n",
       "      <td>0</td>\n",
       "      <td>20000</td>\n",
       "    </tr>\n",
       "    <tr>\n",
       "      <th>1652</th>\n",
       "      <td>$2bn valuation tech company</td>\n",
       "      <td>sr. frontend eng</td>\n",
       "      <td>Web</td>\n",
       "      <td>7</td>\n",
       "      <td>1</td>\n",
       "      <td>150000</td>\n",
       "      <td>0</td>\n",
       "      <td>0</td>\n",
       "    </tr>\n",
       "    <tr>\n",
       "      <th>1653</th>\n",
       "      <td>of maryland</td>\n",
       "      <td>scientific programmer (faculty research assist...</td>\n",
       "      <td>Applied Science</td>\n",
       "      <td>5</td>\n",
       "      <td>1</td>\n",
       "      <td>75000</td>\n",
       "      <td>0</td>\n",
       "      <td>0</td>\n",
       "    </tr>\n",
       "  </tbody>\n",
       "</table>\n",
       "</div>"
      ],
      "text/plain": [
       "                          company  \\\n",
       "1648                     facebook   \n",
       "1650         sparkfun electronics   \n",
       "1651                        intel   \n",
       "1652  $2bn valuation tech company   \n",
       "1653                  of maryland   \n",
       "\n",
       "                                                  title         category  \\\n",
       "1648                                  software engineer         Software   \n",
       "1650                          junior software developer         Software   \n",
       "1651                             staff software enginer         Software   \n",
       "1652                                   sr. frontend eng              Web   \n",
       "1653  scientific programmer (faculty research assist...  Applied Science   \n",
       "\n",
       "      total_exp  local_exp  salary  signing_bonus  annual_bonus  \n",
       "1648          4          2  130000          20000         13000  \n",
       "1650          1          0   60500              0           800  \n",
       "1651          6          4  164000              0         20000  \n",
       "1652          7          1  150000              0             0  \n",
       "1653          5          1   75000              0             0  "
      ]
     },
     "execution_count": 180,
     "metadata": {},
     "output_type": "execute_result"
    }
   ],
   "source": [
    "df.tail()"
   ]
  },
  {
   "cell_type": "code",
   "execution_count": 181,
   "metadata": {},
   "outputs": [
    {
     "data": {
      "text/plain": [
       "'\\nŞimdi burada yaklaşık 28 yıl toplam tecrübesi olan adamın şirkette 60 seneye yakın deneyimi olması saçma değil mi ? \\nBu yüzden bunun gibi eğrinin üstünde ve altında olan değerleri çıkarıyorum.\\n'"
      ]
     },
     "execution_count": 181,
     "metadata": {},
     "output_type": "execute_result"
    },
    {
     "data": {
      "image/png": "[encoded data removed]",
      "text/plain": [
       "<Figure size 640x480 with 1 Axes>"
      ]
     },
     "metadata": {},
     "output_type": "display_data"
    }
   ],
   "source": [
    "sns.scatterplot(df,y=\"local_exp\", x=\"total_exp\")\n",
    "\"\"\"\n",
    "Şimdi burada yaklaşık 28 yıl toplam tecrübesi olan adamın şirkette 60 seneye yakın deneyimi olması saçma değil mi ? \n",
    "Bu yüzden bunun gibi eğrinin üstünde ve altında olan değerleri çıkarıyorum.\n",
    "\"\"\""
   ]
  },
  {
   "cell_type": "code",
   "execution_count": 182,
   "metadata": {},
   "outputs": [
    {
     "data": {
      "text/plain": [
       "1596"
      ]
     },
     "execution_count": 182,
     "metadata": {},
     "output_type": "execute_result"
    }
   ],
   "source": [
    "df[\"local_exp\"].idxmax()"
   ]
  },
  {
   "cell_type": "code",
   "execution_count": 183,
   "metadata": {},
   "outputs": [
    {
     "data": {
      "text/plain": [
       "company            tom\n",
       "title              tom\n",
       "category         Other\n",
       "total_exp           25\n",
       "local_exp           58\n",
       "salary          250000\n",
       "signing_bonus   250478\n",
       "annual_bonus    150000\n",
       "Name: 1596, dtype: object"
      ]
     },
     "execution_count": 183,
     "metadata": {},
     "output_type": "execute_result"
    }
   ],
   "source": [
    "df.loc[1596]"
   ]
  },
  {
   "cell_type": "code",
   "execution_count": 184,
   "metadata": {},
   "outputs": [],
   "source": [
    "# şimdi bunun gibi eğer local exp > total exp ise o verileri atıcaz "
   ]
  },
  {
   "cell_type": "code",
   "execution_count": 185,
   "metadata": {},
   "outputs": [
    {
     "data": {
      "text/html": [
       "<div>\n",
       "<style scoped>\n",
       "    .dataframe tbody tr th:only-of-type {\n",
       "        vertical-align: middle;\n",
       "    }\n",
       "\n",
       "    .dataframe tbody tr th {\n",
       "        vertical-align: top;\n",
       "    }\n",
       "\n",
       "    .dataframe thead th {\n",
       "        text-align: right;\n",
       "    }\n",
       "</style>\n",
       "<table border=\"1\" class=\"dataframe\">\n",
       "  <thead>\n",
       "    <tr style=\"text-align: right;\">\n",
       "      <th></th>\n",
       "      <th>company</th>\n",
       "      <th>title</th>\n",
       "      <th>category</th>\n",
       "      <th>total_exp</th>\n",
       "      <th>local_exp</th>\n",
       "      <th>salary</th>\n",
       "      <th>signing_bonus</th>\n",
       "      <th>annual_bonus</th>\n",
       "    </tr>\n",
       "  </thead>\n",
       "  <tbody>\n",
       "    <tr>\n",
       "      <th>339</th>\n",
       "      <td>airbnb</td>\n",
       "      <td>software engineer</td>\n",
       "      <td>Software</td>\n",
       "      <td>0</td>\n",
       "      <td>1</td>\n",
       "      <td>110000</td>\n",
       "      <td>50000</td>\n",
       "      <td>0</td>\n",
       "    </tr>\n",
       "    <tr>\n",
       "      <th>347</th>\n",
       "      <td>microsoft</td>\n",
       "      <td>software engineer</td>\n",
       "      <td>Software</td>\n",
       "      <td>1</td>\n",
       "      <td>2</td>\n",
       "      <td>120000</td>\n",
       "      <td>200000</td>\n",
       "      <td>0</td>\n",
       "    </tr>\n",
       "    <tr>\n",
       "      <th>447</th>\n",
       "      <td>johns hopkins</td>\n",
       "      <td>phd student</td>\n",
       "      <td>Other</td>\n",
       "      <td>2</td>\n",
       "      <td>4</td>\n",
       "      <td>24000</td>\n",
       "      <td>0</td>\n",
       "      <td>0</td>\n",
       "    </tr>\n",
       "    <tr>\n",
       "      <th>605</th>\n",
       "      <td>la michoacana</td>\n",
       "      <td>servidor de aguas</td>\n",
       "      <td>Other</td>\n",
       "      <td>3</td>\n",
       "      <td>7</td>\n",
       "      <td>48000</td>\n",
       "      <td>0</td>\n",
       "      <td>0</td>\n",
       "    </tr>\n",
       "  </tbody>\n",
       "</table>\n",
       "</div>"
      ],
      "text/plain": [
       "           company              title  category  total_exp  local_exp  salary  \\\n",
       "339         airbnb  software engineer  Software          0          1  110000   \n",
       "347      microsoft  software engineer  Software          1          2  120000   \n",
       "447  johns hopkins        phd student     Other          2          4   24000   \n",
       "605  la michoacana  servidor de aguas     Other          3          7   48000   \n",
       "\n",
       "     signing_bonus  annual_bonus  \n",
       "339          50000             0  \n",
       "347         200000             0  \n",
       "447              0             0  \n",
       "605              0             0  "
      ]
     },
     "execution_count": 185,
     "metadata": {},
     "output_type": "execute_result"
    }
   ],
   "source": [
    "df[df[\"local_exp\"] > df[\"total_exp\"]].iloc[8:12]"
   ]
  },
  {
   "cell_type": "code",
   "execution_count": 186,
   "metadata": {},
   "outputs": [],
   "source": [
    "df = df[(df[\"local_exp\"] -1 ) < df[\"total_exp\"]]"
   ]
  },
  {
   "cell_type": "code",
   "execution_count": 187,
   "metadata": {},
   "outputs": [
    {
     "data": {
      "text/plain": [
       "<Axes: xlabel='total_exp', ylabel='local_exp'>"
      ]
     },
     "execution_count": 187,
     "metadata": {},
     "output_type": "execute_result"
    },
    {
     "data": {
      "image/png": "[encoded data removed]",
      "text/plain": [
       "<Figure size 640x480 with 1 Axes>"
      ]
     },
     "metadata": {},
     "output_type": "display_data"
    }
   ],
   "source": [
    "sns.scatterplot(df,x=\"total_exp\",y=\"local_exp\")"
   ]
  },
  {
   "cell_type": "code",
   "execution_count": 188,
   "metadata": {},
   "outputs": [
    {
     "data": {
      "text/html": [
       "<div>\n",
       "<style scoped>\n",
       "    .dataframe tbody tr th:only-of-type {\n",
       "        vertical-align: middle;\n",
       "    }\n",
       "\n",
       "    .dataframe tbody tr th {\n",
       "        vertical-align: top;\n",
       "    }\n",
       "\n",
       "    .dataframe thead th {\n",
       "        text-align: right;\n",
       "    }\n",
       "</style>\n",
       "<table border=\"1\" class=\"dataframe\">\n",
       "  <thead>\n",
       "    <tr style=\"text-align: right;\">\n",
       "      <th></th>\n",
       "      <th>company</th>\n",
       "      <th>title</th>\n",
       "      <th>category</th>\n",
       "      <th>total_exp</th>\n",
       "      <th>local_exp</th>\n",
       "      <th>salary</th>\n",
       "      <th>signing_bonus</th>\n",
       "      <th>annual_bonus</th>\n",
       "    </tr>\n",
       "  </thead>\n",
       "  <tbody>\n",
       "    <tr>\n",
       "      <th>1422</th>\n",
       "      <td>ghgh</td>\n",
       "      <td>ghghgh</td>\n",
       "      <td>Other</td>\n",
       "      <td>56</td>\n",
       "      <td>3</td>\n",
       "      <td>565656</td>\n",
       "      <td>5656</td>\n",
       "      <td>566</td>\n",
       "    </tr>\n",
       "  </tbody>\n",
       "</table>\n",
       "</div>"
      ],
      "text/plain": [
       "     company   title category  total_exp  local_exp  salary  signing_bonus  \\\n",
       "1422    ghgh  ghghgh    Other         56          3  565656           5656   \n",
       "\n",
       "      annual_bonus  \n",
       "1422           566  "
      ]
     },
     "execution_count": 188,
     "metadata": {},
     "output_type": "execute_result"
    }
   ],
   "source": [
    "df[df[\"total_exp\"]>50]"
   ]
  },
  {
   "cell_type": "code",
   "execution_count": 189,
   "metadata": {},
   "outputs": [
    {
     "data": {
      "text/html": [
       "<div>\n",
       "<style scoped>\n",
       "    .dataframe tbody tr th:only-of-type {\n",
       "        vertical-align: middle;\n",
       "    }\n",
       "\n",
       "    .dataframe tbody tr th {\n",
       "        vertical-align: top;\n",
       "    }\n",
       "\n",
       "    .dataframe thead th {\n",
       "        text-align: right;\n",
       "    }\n",
       "</style>\n",
       "<table border=\"1\" class=\"dataframe\">\n",
       "  <thead>\n",
       "    <tr style=\"text-align: right;\">\n",
       "      <th></th>\n",
       "      <th>company</th>\n",
       "      <th>title</th>\n",
       "      <th>category</th>\n",
       "      <th>total_exp</th>\n",
       "      <th>local_exp</th>\n",
       "      <th>salary</th>\n",
       "      <th>signing_bonus</th>\n",
       "      <th>annual_bonus</th>\n",
       "    </tr>\n",
       "  </thead>\n",
       "  <tbody>\n",
       "    <tr>\n",
       "      <th>34</th>\n",
       "      <td>city of austin</td>\n",
       "      <td>it programmer</td>\n",
       "      <td>Other</td>\n",
       "      <td>40</td>\n",
       "      <td>15</td>\n",
       "      <td>103000</td>\n",
       "      <td>0</td>\n",
       "      <td>1500</td>\n",
       "    </tr>\n",
       "    <tr>\n",
       "      <th>335</th>\n",
       "      <td>gg</td>\n",
       "      <td>pres</td>\n",
       "      <td>Other</td>\n",
       "      <td>35</td>\n",
       "      <td>20</td>\n",
       "      <td>75000</td>\n",
       "      <td>2000</td>\n",
       "      <td>3000</td>\n",
       "    </tr>\n",
       "    <tr>\n",
       "      <th>970</th>\n",
       "      <td>ibm</td>\n",
       "      <td>advisory software engineer</td>\n",
       "      <td>Software</td>\n",
       "      <td>32</td>\n",
       "      <td>11</td>\n",
       "      <td>111000</td>\n",
       "      <td>0</td>\n",
       "      <td>1200</td>\n",
       "    </tr>\n",
       "    <tr>\n",
       "      <th>1422</th>\n",
       "      <td>ghgh</td>\n",
       "      <td>ghghgh</td>\n",
       "      <td>Other</td>\n",
       "      <td>56</td>\n",
       "      <td>3</td>\n",
       "      <td>565656</td>\n",
       "      <td>5656</td>\n",
       "      <td>566</td>\n",
       "    </tr>\n",
       "    <tr>\n",
       "      <th>1550</th>\n",
       "      <td>hewlett packard enterprise</td>\n",
       "      <td>software engineer vii</td>\n",
       "      <td>Software</td>\n",
       "      <td>36</td>\n",
       "      <td>6</td>\n",
       "      <td>206000</td>\n",
       "      <td>0</td>\n",
       "      <td>15000</td>\n",
       "    </tr>\n",
       "    <tr>\n",
       "      <th>1555</th>\n",
       "      <td>ãÜ___¡</td>\n",
       "      <td>asdf</td>\n",
       "      <td>Other</td>\n",
       "      <td>43</td>\n",
       "      <td>24</td>\n",
       "      <td>23423</td>\n",
       "      <td>234</td>\n",
       "      <td>2</td>\n",
       "    </tr>\n",
       "  </tbody>\n",
       "</table>\n",
       "</div>"
      ],
      "text/plain": [
       "                         company                       title  category  \\\n",
       "34                city of austin               it programmer     Other   \n",
       "335                           gg                        pres     Other   \n",
       "970                          ibm  advisory software engineer  Software   \n",
       "1422                        ghgh                      ghghgh     Other   \n",
       "1550  hewlett packard enterprise       software engineer vii  Software   \n",
       "1555                    ãÜ___¡                        asdf     Other   \n",
       "\n",
       "      total_exp  local_exp  salary  signing_bonus  annual_bonus  \n",
       "34           40         15  103000              0          1500  \n",
       "335          35         20   75000           2000          3000  \n",
       "970          32         11  111000              0          1200  \n",
       "1422         56          3  565656           5656           566  \n",
       "1550         36          6  206000              0         15000  \n",
       "1555         43         24   23423            234             2  "
      ]
     },
     "execution_count": 189,
     "metadata": {},
     "output_type": "execute_result"
    }
   ],
   "source": [
    "#hatta bunun gibi 30 yıldan fazla toplam deneyimi olanlarda sanki hatalı veriler var 1422 ve 1555 gibi. bunları da atalım\n",
    "\n",
    "df[df[\"total_exp\"]> 30] "
   ]
  },
  {
   "cell_type": "code",
   "execution_count": 190,
   "metadata": {},
   "outputs": [],
   "source": [
    "df = df.set_index(np.arange(0,len(df)))"
   ]
  },
  {
   "cell_type": "code",
   "execution_count": 191,
   "metadata": {},
   "outputs": [
    {
     "data": {
      "text/html": [
       "<div>\n",
       "<style scoped>\n",
       "    .dataframe tbody tr th:only-of-type {\n",
       "        vertical-align: middle;\n",
       "    }\n",
       "\n",
       "    .dataframe tbody tr th {\n",
       "        vertical-align: top;\n",
       "    }\n",
       "\n",
       "    .dataframe thead th {\n",
       "        text-align: right;\n",
       "    }\n",
       "</style>\n",
       "<table border=\"1\" class=\"dataframe\">\n",
       "  <thead>\n",
       "    <tr style=\"text-align: right;\">\n",
       "      <th></th>\n",
       "      <th>company</th>\n",
       "      <th>title</th>\n",
       "      <th>category</th>\n",
       "      <th>total_exp</th>\n",
       "      <th>local_exp</th>\n",
       "      <th>salary</th>\n",
       "      <th>signing_bonus</th>\n",
       "      <th>annual_bonus</th>\n",
       "    </tr>\n",
       "  </thead>\n",
       "  <tbody>\n",
       "    <tr>\n",
       "      <th>31</th>\n",
       "      <td>city of austin</td>\n",
       "      <td>it programmer</td>\n",
       "      <td>Other</td>\n",
       "      <td>40</td>\n",
       "      <td>15</td>\n",
       "      <td>103000</td>\n",
       "      <td>0</td>\n",
       "      <td>1500</td>\n",
       "    </tr>\n",
       "    <tr>\n",
       "      <th>319</th>\n",
       "      <td>gg</td>\n",
       "      <td>pres</td>\n",
       "      <td>Other</td>\n",
       "      <td>35</td>\n",
       "      <td>20</td>\n",
       "      <td>75000</td>\n",
       "      <td>2000</td>\n",
       "      <td>3000</td>\n",
       "    </tr>\n",
       "    <tr>\n",
       "      <th>920</th>\n",
       "      <td>ibm</td>\n",
       "      <td>advisory software engineer</td>\n",
       "      <td>Software</td>\n",
       "      <td>32</td>\n",
       "      <td>11</td>\n",
       "      <td>111000</td>\n",
       "      <td>0</td>\n",
       "      <td>1200</td>\n",
       "    </tr>\n",
       "    <tr>\n",
       "      <th>1340</th>\n",
       "      <td>ghgh</td>\n",
       "      <td>ghghgh</td>\n",
       "      <td>Other</td>\n",
       "      <td>56</td>\n",
       "      <td>3</td>\n",
       "      <td>565656</td>\n",
       "      <td>5656</td>\n",
       "      <td>566</td>\n",
       "    </tr>\n",
       "    <tr>\n",
       "      <th>1462</th>\n",
       "      <td>hewlett packard enterprise</td>\n",
       "      <td>software engineer vii</td>\n",
       "      <td>Software</td>\n",
       "      <td>36</td>\n",
       "      <td>6</td>\n",
       "      <td>206000</td>\n",
       "      <td>0</td>\n",
       "      <td>15000</td>\n",
       "    </tr>\n",
       "    <tr>\n",
       "      <th>1467</th>\n",
       "      <td>ãÜ___¡</td>\n",
       "      <td>asdf</td>\n",
       "      <td>Other</td>\n",
       "      <td>43</td>\n",
       "      <td>24</td>\n",
       "      <td>23423</td>\n",
       "      <td>234</td>\n",
       "      <td>2</td>\n",
       "    </tr>\n",
       "  </tbody>\n",
       "</table>\n",
       "</div>"
      ],
      "text/plain": [
       "                         company                       title  category  \\\n",
       "31                city of austin               it programmer     Other   \n",
       "319                           gg                        pres     Other   \n",
       "920                          ibm  advisory software engineer  Software   \n",
       "1340                        ghgh                      ghghgh     Other   \n",
       "1462  hewlett packard enterprise       software engineer vii  Software   \n",
       "1467                    ãÜ___¡                        asdf     Other   \n",
       "\n",
       "      total_exp  local_exp  salary  signing_bonus  annual_bonus  \n",
       "31           40         15  103000              0          1500  \n",
       "319          35         20   75000           2000          3000  \n",
       "920          32         11  111000              0          1200  \n",
       "1340         56          3  565656           5656           566  \n",
       "1462         36          6  206000              0         15000  \n",
       "1467         43         24   23423            234             2  "
      ]
     },
     "execution_count": 191,
     "metadata": {},
     "output_type": "execute_result"
    }
   ],
   "source": [
    "df[df[\"total_exp\"]> 30] "
   ]
  },
  {
   "cell_type": "code",
   "execution_count": 192,
   "metadata": {},
   "outputs": [],
   "source": [
    "df.drop(df.index[[1340,1467]],inplace=True)"
   ]
  },
  {
   "cell_type": "code",
   "execution_count": 193,
   "metadata": {},
   "outputs": [
    {
     "data": {
      "text/html": [
       "<div>\n",
       "<style scoped>\n",
       "    .dataframe tbody tr th:only-of-type {\n",
       "        vertical-align: middle;\n",
       "    }\n",
       "\n",
       "    .dataframe tbody tr th {\n",
       "        vertical-align: top;\n",
       "    }\n",
       "\n",
       "    .dataframe thead th {\n",
       "        text-align: right;\n",
       "    }\n",
       "</style>\n",
       "<table border=\"1\" class=\"dataframe\">\n",
       "  <thead>\n",
       "    <tr style=\"text-align: right;\">\n",
       "      <th></th>\n",
       "      <th>company</th>\n",
       "      <th>title</th>\n",
       "      <th>category</th>\n",
       "      <th>total_exp</th>\n",
       "      <th>local_exp</th>\n",
       "      <th>salary</th>\n",
       "      <th>signing_bonus</th>\n",
       "      <th>annual_bonus</th>\n",
       "    </tr>\n",
       "  </thead>\n",
       "  <tbody>\n",
       "    <tr>\n",
       "      <th>1341</th>\n",
       "      <td>ali</td>\n",
       "      <td>pagla dancer</td>\n",
       "      <td>Other</td>\n",
       "      <td>9</td>\n",
       "      <td>5</td>\n",
       "      <td>550000</td>\n",
       "      <td>20000</td>\n",
       "      <td>200000</td>\n",
       "    </tr>\n",
       "    <tr>\n",
       "      <th>1469</th>\n",
       "      <td>laika</td>\n",
       "      <td>systems administrator</td>\n",
       "      <td>Management</td>\n",
       "      <td>7</td>\n",
       "      <td>0</td>\n",
       "      <td>77000</td>\n",
       "      <td>0</td>\n",
       "      <td>2000</td>\n",
       "    </tr>\n",
       "  </tbody>\n",
       "</table>\n",
       "</div>"
      ],
      "text/plain": [
       "     company                  title    category  total_exp  local_exp  salary  \\\n",
       "1341     ali           pagla dancer       Other          9          5  550000   \n",
       "1469   laika  systems administrator  Management          7          0   77000   \n",
       "\n",
       "      signing_bonus  annual_bonus  \n",
       "1341          20000        200000  \n",
       "1469              0          2000  "
      ]
     },
     "execution_count": 193,
     "metadata": {},
     "output_type": "execute_result"
    }
   ],
   "source": [
    "df.iloc[[1340,1467]]"
   ]
  },
  {
   "cell_type": "code",
   "execution_count": 194,
   "metadata": {},
   "outputs": [
    {
     "data": {
      "text/plain": [
       "<matplotlib.legend.Legend at 0x2221527dac0>"
      ]
     },
     "execution_count": 194,
     "metadata": {},
     "output_type": "execute_result"
    },
    {
     "data": {
      "image/png": "[encoded data removed]",
      "text/plain": [
       "<Figure size 640x480 with 1 Axes>"
      ]
     },
     "metadata": {},
     "output_type": "display_data"
    }
   ],
   "source": [
    "sns.scatterplot(df, x=\"total_exp\",y=\"local_exp\",hue=\"category\",palette=\"Set1\")\n",
    "plt.legend(bbox_to_anchor=(1.01,0.7))"
   ]
  },
  {
   "cell_type": "code",
   "execution_count": 195,
   "metadata": {},
   "outputs": [
    {
     "data": {
      "text/plain": [
       "<matplotlib.legend.Legend at 0x22219a65ac0>"
      ]
     },
     "execution_count": 195,
     "metadata": {},
     "output_type": "execute_result"
    },
    {
     "data": {
      "image/png": "[encoded data removed]",
      "text/plain": [
       "<Figure size 640x480 with 1 Axes>"
      ]
     },
     "metadata": {},
     "output_type": "display_data"
    }
   ],
   "source": [
    "sns.scatterplot(df, x=\"signing_bonus\",y=\"salary\",hue=\"category\",palette=\"Set1\")\n",
    "plt.legend(bbox_to_anchor=(1.01,0.5))"
   ]
  },
  {
   "cell_type": "markdown",
   "metadata": {},
   "source": [
    "## HİSTOGRAMLARI ÇİZDİRELİM"
   ]
  },
  {
   "cell_type": "code",
   "execution_count": 196,
   "metadata": {},
   "outputs": [
    {
     "data": {
      "text/plain": [
       "<Axes: xlabel='salary', ylabel='Count'>"
      ]
     },
     "execution_count": 196,
     "metadata": {},
     "output_type": "execute_result"
    },
    {
     "data": {
      "image/png": "[encoded data removed]",
      "text/plain": [
       "<Figure size 640x480 with 1 Axes>"
      ]
     },
     "metadata": {},
     "output_type": "display_data"
    }
   ],
   "source": [
    "sns.histplot(df,x=\"salary\")\n"
   ]
  },
  {
   "cell_type": "code",
   "execution_count": 197,
   "metadata": {},
   "outputs": [
    {
     "data": {
      "image/png": "[encoded data removed]",
      "text/plain": [
       "<Figure size 640x480 with 1 Axes>"
      ]
     },
     "metadata": {},
     "output_type": "display_data"
    }
   ],
   "source": [
    "sns.histplot(df,x=\"salary\") \n",
    "plt.xscale(\"log\")              #$$ ortalama en yüksek maaş 100.000 dolar civarıymış."
   ]
  },
  {
   "cell_type": "code",
   "execution_count": 198,
   "metadata": {},
   "outputs": [
    {
     "data": {
      "text/plain": [
       "0.020552344251766216"
      ]
     },
     "execution_count": 198,
     "metadata": {},
     "output_type": "execute_result"
    }
   ],
   "source": [
    "len(df[df[\"salary\"]> 500_000]) / len(df) # %2 si 500 bin dolardan fazla maaş alıyormuş"
   ]
  },
  {
   "cell_type": "code",
   "execution_count": 199,
   "metadata": {},
   "outputs": [
    {
     "data": {
      "text/plain": [
       "(5000.0, 250000.0)"
      ]
     },
     "execution_count": 199,
     "metadata": {},
     "output_type": "execute_result"
    },
    {
     "data": {
      "image/png": "[encoded data removed]",
      "text/plain": [
       "<Figure size 640x480 with 1 Axes>"
      ]
     },
     "metadata": {},
     "output_type": "display_data"
    }
   ],
   "source": [
    "sns.histplot(df,x=\"salary\",kde=True)\n",
    "plt.xlim(5000,250000)"
   ]
  },
  {
   "cell_type": "markdown",
   "metadata": {},
   "source": [
    "## Countplot bakalım"
   ]
  },
  {
   "cell_type": "code",
   "execution_count": 200,
   "metadata": {},
   "outputs": [
    {
     "data": {
      "image/png": "[encoded data removed]",
      "text/plain": [
       "<Figure size 640x480 with 1 Axes>"
      ]
     },
     "metadata": {},
     "output_type": "display_data"
    }
   ],
   "source": [
    "sns.countplot(df,x=\"category\")\n",
    "plt.xticks(rotation=90); # yazıyı 90 derece çevirdim daha iyi gözüksün diye."
   ]
  },
  {
   "cell_type": "code",
   "execution_count": 201,
   "metadata": {},
   "outputs": [
    {
     "data": {
      "text/plain": [
       "category\n",
       "Software           833\n",
       "Other              262\n",
       "Engineering        176\n",
       "Management         120\n",
       "Web                 81\n",
       "Data                71\n",
       "Operations           8\n",
       "Applied Science      6\n",
       "Name: count, dtype: int64"
      ]
     },
     "execution_count": 201,
     "metadata": {},
     "output_type": "execute_result"
    }
   ],
   "source": [
    "df.value_counts(\"category\") # bunları da üstlerine yazdıralım"
   ]
  },
  {
   "cell_type": "code",
   "execution_count": 202,
   "metadata": {},
   "outputs": [
    {
     "data": {
      "image/png": "[encoded data removed]",
      "text/plain": [
       "<Figure size 1000x500 with 1 Axes>"
      ]
     },
     "metadata": {},
     "output_type": "display_data"
    }
   ],
   "source": [
    "plt.figure(figsize=(10,5), dpi=100)\n",
    "ax = sns.countplot(data= df, x=\"category\")\n",
    "\n",
    "for p in ax.patches:\n",
    "   ax.annotate('{:.0f}'.format(p.get_height()), (p.get_x()+0.20, p.get_height()+16), size=16)\n",
    "\n",
    "plt.xticks(rotation=90)\n",
    "plt.ylim(0,900);"
   ]
  },
  {
   "cell_type": "markdown",
   "metadata": {},
   "source": [
    "## Kde plot"
   ]
  },
  {
   "cell_type": "code",
   "execution_count": 203,
   "metadata": {},
   "outputs": [
    {
     "data": {
      "text/plain": [
       "<Axes: xlabel='total_exp', ylabel='Density'>"
      ]
     },
     "execution_count": 203,
     "metadata": {},
     "output_type": "execute_result"
    },
    {
     "data": {
      "image/png": "[encoded data removed]",
      "text/plain": [
       "<Figure size 640x480 with 1 Axes>"
      ]
     },
     "metadata": {},
     "output_type": "display_data"
    }
   ],
   "source": [
    "sns.kdeplot(df,x=\"total_exp\")"
   ]
  },
  {
   "cell_type": "code",
   "execution_count": 204,
   "metadata": {},
   "outputs": [
    {
     "data": {
      "text/plain": [
       "<Axes: xlabel='local_exp', ylabel='Density'>"
      ]
     },
     "execution_count": 204,
     "metadata": {},
     "output_type": "execute_result"
    },
    {
     "data": {
      "image/png": "[encoded data removed]",
      "text/plain": [
       "<Figure size 640x480 with 1 Axes>"
      ]
     },
     "metadata": {},
     "output_type": "display_data"
    }
   ],
   "source": [
    "sns.kdeplot(df,x=\"local_exp\")"
   ]
  },
  {
   "cell_type": "code",
   "execution_count": 205,
   "metadata": {},
   "outputs": [
    {
     "data": {
      "text/plain": [
       "<Axes: xlabel='local_exp', ylabel='Density'>"
      ]
     },
     "execution_count": 205,
     "metadata": {},
     "output_type": "execute_result"
    },
    {
     "data": {
      "image/png": "[encoded data removed]",
      "text/plain": [
       "<Figure size 640x480 with 1 Axes>"
      ]
     },
     "metadata": {},
     "output_type": "display_data"
    }
   ],
   "source": [
    "sns.kdeplot(data=df, x=\"local_exp\", clip=[0,5], fill=True, color=\"purple\") # clip kes, fill doldur.\n",
    "sns.kdeplot(data=df, x=\"local_exp\", fill=True, color=\"purple\")"
   ]
  },
  {
   "cell_type": "code",
   "execution_count": 206,
   "metadata": {},
   "outputs": [
    {
     "data": {
      "text/plain": [
       "<Axes: xlabel='local_exp', ylabel='Density'>"
      ]
     },
     "execution_count": 206,
     "metadata": {},
     "output_type": "execute_result"
    },
    {
     "data": {
      "image/png": "[encoded data removed]",
      "text/plain": [
       "<Figure size 640x480 with 1 Axes>"
      ]
     },
     "metadata": {},
     "output_type": "display_data"
    }
   ],
   "source": [
    "sns.kdeplot(data=df, x=\"local_exp\", clip=[0,20], fill=True, color=\"#5B3A29\")\n",
    "sns.kdeplot(data=df, x=\"total_exp\", clip=[0,20], fill=True, color=\"#BEBD7F\")"
   ]
  }
 ],
 "metadata": {
  "kernelspec": {
   "display_name": "Python 3",
   "language": "python",
   "name": "python3"
  },
  "language_info": {
   "codemirror_mode": {
    "name": "ipython",
    "version": 3
   },
   "file_extension": ".py",
   "mimetype": "text/x-python",
   "name": "python",
   "nbconvert_exporter": "python",
   "pygments_lexer": "ipython3",
   "version": "3.12.0"
  }
 },
 "nbformat": 4,
 "nbformat_minor": 2
}
